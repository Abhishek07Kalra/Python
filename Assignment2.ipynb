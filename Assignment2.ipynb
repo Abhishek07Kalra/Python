{
 "cells": [
  {
   "cell_type": "code",
   "execution_count": 2,
   "metadata": {},
   "outputs": [],
   "source": [
    "##Assignment 2 ##"
   ]
  },
  {
   "cell_type": "code",
   "execution_count": 1,
   "metadata": {},
   "outputs": [],
   "source": [
    "##TASK 1\n",
    "##QUESTION 1.1\n",
    "def myreduce(lst):\n",
    "    ans = \"\"\n",
    "    for i in lst:\n",
    "        if i == \" \":\n",
    "            continue\n",
    "        else :\n",
    "            ans +=i\n",
    "    return ans"
   ]
  },
  {
   "cell_type": "code",
   "execution_count": 7,
   "metadata": {},
   "outputs": [
    {
     "data": {
      "text/plain": [
       "'sdfssdfsfsdfsdf'"
      ]
     },
     "execution_count": 7,
     "metadata": {},
     "output_type": "execute_result"
    }
   ],
   "source": [
    "l =['sdfs','sdfsfsdf','sdf']\n",
    "myreduce(l)"
   ]
  },
  {
   "cell_type": "code",
   "execution_count": 8,
   "metadata": {},
   "outputs": [],
   "source": [
    "##question 1.2"
   ]
  },
  {
   "cell_type": "code",
   "execution_count": 23,
   "metadata": {},
   "outputs": [
    {
     "data": {
      "text/plain": [
       "[2, 4, 6, 8]"
      ]
     },
     "execution_count": 23,
     "metadata": {},
     "output_type": "execute_result"
    }
   ],
   "source": [
    "def even_check(num):\n",
    "    if num%2 ==0:\n",
    "        return True\n",
    "def myfilter(fun , lst):\n",
    "    lst1 = []\n",
    "    for i in lst:\n",
    "        if fun(i):\n",
    "            lst1.append(i)\n",
    "    return lst1\n",
    "lst = [1,2,3,4,5,6,7,8]\n",
    "lst = myfilter(even_check , lst)\n",
    "lst"
   ]
  },
  {
   "cell_type": "code",
   "execution_count": 63,
   "metadata": {},
   "outputs": [
    {
     "name": "stdout",
     "output_type": "stream",
     "text": [
      "['A', 'C', 'A', 'D', 'G', 'I', 'L', 'D']\n",
      "\n",
      "['x', 'xx', 'xxx', 'xxxx', 'y', 'yy', 'yyy', 'yyyy', 'z', 'zz', 'zzz', 'zzzz']\n",
      "\n",
      "['x', 'y', 'z', 'xx', 'yy', 'zz', 'xxx', 'yyy', 'zzz', 'xxxx', 'yyyy', 'zzzz']\n",
      "\n",
      "[[2], [3], [4], [3], [4], [5], [4], [5], [6]]\n",
      "\n",
      "[[2, 3, 4, 5], [3, 4, 5, 6], [4, 5, 6, 7], [5, 6, 7, 8]]\n",
      "\n",
      "[(1, 1), (2, 1), (3, 1), (1, 2), (2, 2), (3, 2), (1, 3), (2, 3), (3, 3)]\n"
     ]
    }
   ],
   "source": [
    "## Question 2\n",
    "##list 1\n",
    "word = \"ACADGILD\"\n",
    "alphabet_list = [ alphabet for alphabet in word ]\n",
    "print (str(alphabet_list))\n",
    "print()\n",
    "##list 2\n",
    "word1 = \"xyz\"\n",
    "lst = []\n",
    "for i in word1:\n",
    "    lst+=i\n",
    "    lst.append(i*2)\n",
    "    lst.append(i*3)\n",
    "    lst.append(i*4)\n",
    "print(lst)\n",
    "print()\n",
    "##list 3\n",
    "a = 1\n",
    "lst1 = []\n",
    "for i in range(len(word1)+1):\n",
    "    for j in word1:\n",
    "        lst1.append(j*a)\n",
    "    a+=1\n",
    "print(lst1)\n",
    "print()\n",
    "##list 4\n",
    "list2 = [2,3,4]\n",
    "result = [ [item+num] for item in list2 for num in range(0,3)]\n",
    "print(str(result))\n",
    "print()\n",
    "##list 5\n",
    "list3 = [2,3,4,5]\n",
    "result = [ [item+num for item in list3] for num in range(0,4)  ]\n",
    "print(str(result))\n",
    "print()\n",
    "##list 6\n",
    "list4=[1,2,3]\n",
    "result = [ (b,a) for a in list4 for b in list4]\n",
    "print(str(result))"
   ]
  },
  {
   "cell_type": "code",
   "execution_count": 24,
   "metadata": {},
   "outputs": [],
   "source": [
    "##question 3"
   ]
  },
  {
   "cell_type": "code",
   "execution_count": 2,
   "metadata": {},
   "outputs": [
    {
     "data": {
      "text/plain": [
       "26"
      ]
     },
     "execution_count": 2,
     "metadata": {},
     "output_type": "execute_result"
    }
   ],
   "source": [
    "def longestWord(lst):\n",
    "    ans = 0\n",
    "    for i in lst:\n",
    "        if ans < len(i):\n",
    "            ans = len(i)\n",
    "    return ans\n",
    "lst = ['abhishek' , 'kalra' , 'abhi' , 'abcdefghijklmnopqrstuvwxyz']\n",
    "ans = longestWord(lst)\n",
    "ans"
   ]
  },
  {
   "cell_type": "code",
   "execution_count": 30,
   "metadata": {},
   "outputs": [],
   "source": [
    "## TASK 2"
   ]
  },
  {
   "cell_type": "code",
   "execution_count": 31,
   "metadata": {},
   "outputs": [],
   "source": [
    "##Question 1.1"
   ]
  },
  {
   "cell_type": "code",
   "execution_count": 27,
   "metadata": {},
   "outputs": [
    {
     "name": "stdout",
     "output_type": "stream",
     "text": [
      "5\n",
      "6\n",
      "7\n",
      "Area of triangle is :  14.696938456699069\n"
     ]
    }
   ],
   "source": [
    "class triangle:\n",
    "    def __init__(self,a,b,c):\n",
    "        self.a = a\n",
    "        self.b = b\n",
    "        self.c = c\n",
    "    def area(s):\n",
    "         temp = (s.a+s.b+s.c)/2\n",
    "         area =  (temp*(temp-s.a)*(temp-s.b)*(temp-s.c)) ** 0.5 \n",
    "         return area\n",
    "a = int(input())\n",
    "b = int(input())\n",
    "c = int(input())\n",
    "tri = triangle(a,b,c)\n",
    "ans = tri.area()\n",
    "print(\"Area of triangle is : \",ans)"
   ]
  },
  {
   "cell_type": "markdown",
   "metadata": {},
   "source": [
    " "
   ]
  },
  {
   "cell_type": "code",
   "execution_count": 11,
   "metadata": {},
   "outputs": [
    {
     "name": "stdout",
     "output_type": "stream",
     "text": [
      "5\n"
     ]
    },
    {
     "data": {
      "text/plain": [
       "['python', 'Training', 'banglore']"
      ]
     },
     "execution_count": 11,
     "metadata": {},
     "output_type": "execute_result"
    }
   ],
   "source": [
    "##question 1.2 ##\n",
    "def filter_long_words(lst,n):\n",
    "    temp = []\n",
    "    for i in lst:\n",
    "        if len(i) >n :\n",
    "            temp +=[i]\n",
    "    return temp\n",
    "lst = ['python' , 'AI' , 'Training' , 'noida' , 'banglore']\n",
    "n=int(input())\n",
    "ans = filter_long_words(lst,n)\n",
    "ans"
   ]
  },
  {
   "cell_type": "code",
   "execution_count": 12,
   "metadata": {},
   "outputs": [],
   "source": [
    "##question 2.1"
   ]
  },
  {
   "cell_type": "code",
   "execution_count": 14,
   "metadata": {},
   "outputs": [
    {
     "data": {
      "text/plain": [
       "[2, 3, 4]"
      ]
     },
     "execution_count": 14,
     "metadata": {},
     "output_type": "execute_result"
    }
   ],
   "source": [
    "def func(lst):\n",
    "    temp = []\n",
    "    for i in lst:\n",
    "        temp+=[len(i)]\n",
    "    return temp\n",
    "lst = ['ab','cde','erty']\n",
    "ans = func(lst)\n",
    "ans"
   ]
  },
  {
   "cell_type": "code",
   "execution_count": 15,
   "metadata": {},
   "outputs": [],
   "source": [
    "##question 2.2"
   ]
  },
  {
   "cell_type": "code",
   "execution_count": 25,
   "metadata": {},
   "outputs": [
    {
     "name": "stdout",
     "output_type": "stream",
     "text": [
      "a\n"
     ]
    },
    {
     "data": {
      "text/plain": [
       "True"
      ]
     },
     "execution_count": 25,
     "metadata": {},
     "output_type": "execute_result"
    }
   ],
   "source": [
    "def func(s):\n",
    "    s = s.lower()\n",
    "    if s == 'a':\n",
    "        return True\n",
    "    elif s == 'e':\n",
    "        return True\n",
    "    elif s == 'i':\n",
    "        return True\n",
    "    elif s == 'o':\n",
    "        return True\n",
    "    elif s == 'u':\n",
    "        return True\n",
    "    else:\n",
    "        return False\n",
    "s = str(input())\n",
    "func(s)"
   ]
  },
  {
   "cell_type": "code",
   "execution_count": null,
   "metadata": {},
   "outputs": [],
   "source": []
  }
 ],
 "metadata": {
  "kernelspec": {
   "display_name": "Python 3",
   "language": "python",
   "name": "python3"
  },
  "language_info": {
   "codemirror_mode": {
    "name": "ipython",
    "version": 3
   },
   "file_extension": ".py",
   "mimetype": "text/x-python",
   "name": "python",
   "nbconvert_exporter": "python",
   "pygments_lexer": "ipython3",
   "version": "3.8.2"
  }
 },
 "nbformat": 4,
 "nbformat_minor": 4
}
