{
 "cells": [
  {
   "cell_type": "code",
   "execution_count": 6,
   "metadata": {},
   "outputs": [],
   "source": [
    "## Assignment 3 ##"
   ]
  },
  {
   "cell_type": "code",
   "execution_count": 7,
   "metadata": {},
   "outputs": [],
   "source": [
    "## Task 1 ## \n",
    "\n",
    "## Question 1 ##"
   ]
  },
  {
   "cell_type": "code",
   "execution_count": 18,
   "metadata": {},
   "outputs": [
    {
     "name": "stdout",
     "output_type": "stream",
     "text": [
      "ERROR\n"
     ]
    }
   ],
   "source": [
    "def compute(a,b):\n",
    "    try:\n",
    "        res = a/b\n",
    "        return res\n",
    "    except:\n",
    "        print(\"ERROR\")\n",
    "compute(5,0)"
   ]
  },
  {
   "cell_type": "code",
   "execution_count": 20,
   "metadata": {},
   "outputs": [],
   "source": [
    "## Question 2 ##"
   ]
  },
  {
   "cell_type": "code",
   "execution_count": 31,
   "metadata": {},
   "outputs": [
    {
     "name": "stdout",
     "output_type": "stream",
     "text": [
      "Americans plays Baseball\n",
      "Americans plays cricket\n",
      "Americans watch Baseball\n",
      "Americans watch cricket\n",
      "Indians plays Baseball\n",
      "Indians plays cricket\n",
      "Indians watch Baseball\n",
      "Indians watch cricket\n"
     ]
    }
   ],
   "source": [
    "def sentence(subjects , verbs , objects):\n",
    "    k = 0\n",
    "    for i in subjects:\n",
    "        for j in objects:\n",
    "            print(i + \" \" + verbs[k] + \" \" + j)\n",
    "        for j in objects:\n",
    "            print(i + \" \" + verbs[1] + \" \" + j)\n",
    "        \n",
    "\n",
    "subjects = [\"Americans\" , \"Indians\"]\n",
    "verbs = [\"plays\" , \"watch\"]\n",
    "objects = [\"Baseball\" , \"cricket\"]\n",
    "sentence(subjects , verbs , objects)"
   ]
  },
  {
   "cell_type": "code",
   "execution_count": 27,
   "metadata": {},
   "outputs": [],
   "source": [
    "## TASK 2 ##"
   ]
  },
  {
   "cell_type": "code",
   "execution_count": 28,
   "metadata": {},
   "outputs": [],
   "source": [
    "## Question 1 ##"
   ]
  },
  {
   "cell_type": "code",
   "execution_count": 43,
   "metadata": {},
   "outputs": [
    {
     "name": "stdout",
     "output_type": "stream",
     "text": [
      "matrix of the input array in dec. order of powers:\n",
      "\n",
      " [[ 1  1  1]\n",
      " [ 4  2  1]\n",
      " [ 9  3  1]\n",
      " [16  4  1]\n",
      " [25  5  1]] \n",
      "\n",
      "matrix of the input array in inc. order of powers:\n",
      "\n",
      " [[ 1  1  1]\n",
      " [ 1  2  4]\n",
      " [ 1  3  9]\n",
      " [ 1  4 16]\n",
      " [ 1  5 25]] \n",
      "\n",
      "matrix of the input array in dec. order of powers:\n",
      "\n",
      " [[    1     1     1     1     1]\n",
      " [   16     8     4     2     1]\n",
      " [  256    64    16     4     1]\n",
      " [ 1296   216    36     6     1]\n",
      " [ 4096   512    64     8     1]\n",
      " [10000  1000   100    10     1]] \n",
      "\n",
      "matrix of the input array in inc. order of powers:\n",
      "\n",
      " [[    1     1     1     1     1]\n",
      " [    1     2     4     8    16]\n",
      " [    1     4    16    64   256]\n",
      " [    1     6    36   216  1296]\n",
      " [    1     8    64   512  4096]\n",
      " [    1    10   100  1000 10000]] \n",
      "\n"
     ]
    }
   ],
   "source": [
    "import numpy as np\n",
    "def vander(ipvector, n, increasing=False):\n",
    "    if not increasing:\n",
    "        my_matrix = np.array([x**(n-1-i) for x in ipvector for i in range(n)]).reshape(ipvector.size,n)\n",
    "    elif increasing:\n",
    "        my_matrix = np.array([x**i for x in ipvector for i in range(n)]).reshape(ipvector.size,n)\n",
    "    \n",
    "    return my_matrix\n",
    "\n",
    "inputvector = np.array([1,2,3,4,5])\n",
    "no_col_opmat = 3\n",
    "op_matx_dec_order = vander(inputvector,no_col_opmat,False)\n",
    "op_matx_inc_order = vander(inputvector,no_col_opmat,True)\n",
    "\n",
    "print(\"matrix of the input array in dec. order of powers:\\n\\n\",op_matx_dec_order,\"\\n\")\n",
    "print(\"matrix of the input array in inc. order of powers:\\n\\n\",op_matx_inc_order,\"\\n\")\n",
    "\n",
    "inputvector = np.array([1,2,4,6,8,10])\n",
    "no_col_opmat = 5\n",
    "op_matx_dec_order = vander(inputvector,no_col_opmat,False)\n",
    "op_matx_inc_order = vander(inputvector,no_col_opmat,True)\n",
    "print(\"matrix of the input array in dec. order of powers:\\n\\n\",op_matx_dec_order,\"\\n\")\n",
    "print(\"matrix of the input array in inc. order of powers:\\n\\n\",op_matx_inc_order,\"\\n\")\n"
   ]
  }
 ],
 "metadata": {
  "kernelspec": {
   "display_name": "Python 3",
   "language": "python",
   "name": "python3"
  },
  "language_info": {
   "codemirror_mode": {
    "name": "ipython",
    "version": 3
   },
   "file_extension": ".py",
   "mimetype": "text/x-python",
   "name": "python",
   "nbconvert_exporter": "python",
   "pygments_lexer": "ipython3",
   "version": "3.8.2"
  }
 },
 "nbformat": 4,
 "nbformat_minor": 4
}
